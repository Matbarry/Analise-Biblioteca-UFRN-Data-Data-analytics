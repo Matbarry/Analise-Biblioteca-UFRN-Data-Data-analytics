{
 "cells": [
  {
   "cell_type": "markdown",
   "id": "bde373a9",
   "metadata": {},
   "source": [
    "# Dia 1 - investigando os dados da biblioteca da UFRN"
   ]
  },
  {
   "cell_type": "markdown",
   "id": "920ea331",
   "metadata": {},
   "source": [
    "### Importantando os dados, como são varios arquivos, devemos importar e concatena-los"
   ]
  },
  {
   "cell_type": "code",
   "execution_count": 3,
   "id": "ce50ab1a",
   "metadata": {},
   "outputs": [],
   "source": [
    "import pandas as pd"
   ]
  },
  {
   "cell_type": "code",
   "execution_count": 7,
   "id": "ee579349",
   "metadata": {},
   "outputs": [],
   "source": [
    "emprestimos_20101 = pd.read_csv('https://github.com/FranciscoFoz/7_Days_of_Code_Alura-Python-Pandas/blob/main/Dia_1-Importando_dados/Datasets/dados_emprestimos/emprestimos-20101.csv?raw=true')\n",
    "emprestimos_20102 = pd.read_csv('https://github.com/FranciscoFoz/7_Days_of_Code_Alura-Python-Pandas/blob/main/Dia_1-Importando_dados/Datasets/dados_emprestimos/emprestimos-20102.csv?raw=true')\n",
    "emprestimos_20111 = pd.read_csv('https://github.com/FranciscoFoz/7_Days_of_Code_Alura-Python-Pandas/blob/main/Dia_1-Importando_dados/Datasets/dados_emprestimos/emprestimos-20111.csv?raw=true')\n",
    "emprestimos_20112 = pd.read_csv('https://github.com/FranciscoFoz/7_Days_of_Code_Alura-Python-Pandas/blob/main/Dia_1-Importando_dados/Datasets/dados_emprestimos/emprestimos-20112.csv?raw=true')\n",
    "emprestimos_20121 = pd.read_csv('https://github.com/FranciscoFoz/7_Days_of_Code_Alura-Python-Pandas/blob/main/Dia_1-Importando_dados/Datasets/dados_emprestimos/emprestimos-20121.csv?raw=true')\n",
    "emprestimos_20122 = pd.read_csv('https://github.com/FranciscoFoz/7_Days_of_Code_Alura-Python-Pandas/blob/main/Dia_1-Importando_dados/Datasets/dados_emprestimos/emprestimos-20122.csv?raw=true')\n",
    "emprestimos_20131 = pd.read_csv('https://github.com/FranciscoFoz/7_Days_of_Code_Alura-Python-Pandas/blob/main/Dia_1-Importando_dados/Datasets/dados_emprestimos/emprestimos-20131.csv?raw=true')\n",
    "emprestimos_20132 = pd.read_csv('https://github.com/FranciscoFoz/7_Days_of_Code_Alura-Python-Pandas/blob/main/Dia_1-Importando_dados/Datasets/dados_emprestimos/emprestimos-20132.csv?raw=true')\n",
    "emprestimos_20141 = pd.read_csv('https://github.com/FranciscoFoz/7_Days_of_Code_Alura-Python-Pandas/blob/main/Dia_1-Importando_dados/Datasets/dados_emprestimos/emprestimos-20141.csv?raw=true')\n",
    "emprestimos_20142 = pd.read_csv('https://github.com/FranciscoFoz/7_Days_of_Code_Alura-Python-Pandas/blob/main/Dia_1-Importando_dados/Datasets/dados_emprestimos/emprestimos-20142.csv?raw=true')\n",
    "emprestimos_20151 = pd.read_csv('https://github.com/FranciscoFoz/7_Days_of_Code_Alura-Python-Pandas/blob/main/Dia_1-Importando_dados/Datasets/dados_emprestimos/emprestimos-20151.csv?raw=true')\n",
    "emprestimos_20152 = pd.read_csv('https://github.com/FranciscoFoz/7_Days_of_Code_Alura-Python-Pandas/blob/main/Dia_1-Importando_dados/Datasets/dados_emprestimos/emprestimos-20152.csv?raw=true')\n",
    "emprestimos_20161 = pd.read_csv('https://github.com/FranciscoFoz/7_Days_of_Code_Alura-Python-Pandas/blob/main/Dia_1-Importando_dados/Datasets/dados_emprestimos/emprestimos-20161.csv?raw=true')\n",
    "emprestimos_20162 = pd.read_csv('https://github.com/FranciscoFoz/7_Days_of_Code_Alura-Python-Pandas/blob/main/Dia_1-Importando_dados/Datasets/dados_emprestimos/emprestimos-20162.csv?raw=true')\n",
    "emprestimos_20171 = pd.read_csv('https://github.com/FranciscoFoz/7_Days_of_Code_Alura-Python-Pandas/blob/main/Dia_1-Importando_dados/Datasets/dados_emprestimos/emprestimos-20171.csv?raw=true')\n",
    "emprestimos_20172 = pd.read_csv('https://github.com/FranciscoFoz/7_Days_of_Code_Alura-Python-Pandas/blob/main/Dia_1-Importando_dados/Datasets/dados_emprestimos/emprestimos-20172.csv?raw=true')\n",
    "emprestimos_20181 = pd.read_csv('https://github.com/FranciscoFoz/7_Days_of_Code_Alura-Python-Pandas/blob/main/Dia_1-Importando_dados/Datasets/dados_emprestimos/emprestimos-20181.csv?raw=true')\n",
    "emprestimos_20182 = pd.read_csv('https://github.com/FranciscoFoz/7_Days_of_Code_Alura-Python-Pandas/blob/main/Dia_1-Importando_dados/Datasets/dados_emprestimos/emprestimos-20182.csv?raw=true')\n",
    "emprestimos_20191 = pd.read_csv('https://github.com/FranciscoFoz/7_Days_of_Code_Alura-Python-Pandas/blob/main/Dia_1-Importando_dados/Datasets/dados_emprestimos/emprestimos-20191.csv?raw=true')\n",
    "emprestimos_20192 = pd.read_csv('https://github.com/FranciscoFoz/7_Days_of_Code_Alura-Python-Pandas/blob/main/Dia_1-Importando_dados/Datasets/dados_emprestimos/emprestimos-20192.csv?raw=true')\n",
    "emprestimos_20201 = pd.read_csv('https://github.com/FranciscoFoz/7_Days_of_Code_Alura-Python-Pandas/blob/main/Dia_1-Importando_dados/Datasets/dados_emprestimos/emprestimos-20201.csv?raw=true')\n"
   ]
  },
  {
   "cell_type": "markdown",
   "id": "21f5245d",
   "metadata": {},
   "source": [
    "### Agora temos que concatenar, ou seja, juntar os dataframes em um só"
   ]
  },
  {
   "cell_type": "code",
   "execution_count": 9,
   "id": "762b208b",
   "metadata": {},
   "outputs": [],
   "source": [
    "df = pd.concat([emprestimos_20101,emprestimos_20102, emprestimos_20111, emprestimos_20112, emprestimos_20121, emprestimos_20122\n",
    "               ,emprestimos_20131,emprestimos_20132, emprestimos_20141, emprestimos_20142, emprestimos_20151, emprestimos_20152\n",
    "               ,emprestimos_20161, emprestimos_20162,emprestimos_20171, emprestimos_20172, emprestimos_20181, emprestimos_20182\n",
    "               ,emprestimos_20191, emprestimos_20192, emprestimos_20201])"
   ]
  },
  {
   "cell_type": "code",
   "execution_count": 12,
   "id": "375fe92b",
   "metadata": {},
   "outputs": [
    {
     "data": {
      "text/html": [
       "<div>\n",
       "<style scoped>\n",
       "    .dataframe tbody tr th:only-of-type {\n",
       "        vertical-align: middle;\n",
       "    }\n",
       "\n",
       "    .dataframe tbody tr th {\n",
       "        vertical-align: top;\n",
       "    }\n",
       "\n",
       "    .dataframe thead th {\n",
       "        text-align: right;\n",
       "    }\n",
       "</style>\n",
       "<table border=\"1\" class=\"dataframe\">\n",
       "  <thead>\n",
       "    <tr style=\"text-align: right;\">\n",
       "      <th></th>\n",
       "      <th>id_emprestimo</th>\n",
       "      <th>codigo_barras</th>\n",
       "      <th>data_renovacao</th>\n",
       "      <th>data_emprestimo</th>\n",
       "      <th>data_devolucao</th>\n",
       "      <th>matricula_ou_siape</th>\n",
       "      <th>tipo_vinculo_usuario</th>\n",
       "    </tr>\n",
       "  </thead>\n",
       "  <tbody>\n",
       "    <tr>\n",
       "      <th>0</th>\n",
       "      <td>709684</td>\n",
       "      <td>L095049</td>\n",
       "      <td>NaN</td>\n",
       "      <td>2010/01/04 07:44:10.721000000</td>\n",
       "      <td>2010/01/05 16:26:12.662000000</td>\n",
       "      <td>2.008023e+09</td>\n",
       "      <td>ALUNO DE GRADUAÇÃO</td>\n",
       "    </tr>\n",
       "    <tr>\n",
       "      <th>1</th>\n",
       "      <td>709685</td>\n",
       "      <td>L167050</td>\n",
       "      <td>NaN</td>\n",
       "      <td>2010/01/04 07:44:10.750000000</td>\n",
       "      <td>2010/01/12 07:34:13.934000000</td>\n",
       "      <td>2.008023e+09</td>\n",
       "      <td>ALUNO DE GRADUAÇÃO</td>\n",
       "    </tr>\n",
       "    <tr>\n",
       "      <th>2</th>\n",
       "      <td>709686</td>\n",
       "      <td>2006017618</td>\n",
       "      <td>2010/01/26 08:07:01.738000000</td>\n",
       "      <td>2010/01/04 08:08:44.081000000</td>\n",
       "      <td>2010/02/25 07:36:25.800000000</td>\n",
       "      <td>2.008112e+09</td>\n",
       "      <td>ALUNO DE PÓS-GRADUAÇÃO</td>\n",
       "    </tr>\n",
       "    <tr>\n",
       "      <th>3</th>\n",
       "      <td>709687</td>\n",
       "      <td>L184117</td>\n",
       "      <td>2010/01/18 11:07:46.470000000</td>\n",
       "      <td>2010/01/04 08:24:21.284000000</td>\n",
       "      <td>2010/02/03 08:58:45.692000000</td>\n",
       "      <td>2.007211e+08</td>\n",
       "      <td>ALUNO DE GRADUAÇÃO</td>\n",
       "    </tr>\n",
       "    <tr>\n",
       "      <th>4</th>\n",
       "      <td>709684</td>\n",
       "      <td>L095049</td>\n",
       "      <td>NaN</td>\n",
       "      <td>2010/01/04 07:44:10.721000000</td>\n",
       "      <td>2010/01/05 16:26:12.662000000</td>\n",
       "      <td>2.008023e+09</td>\n",
       "      <td>ALUNO DE GRADUAÇÃO</td>\n",
       "    </tr>\n",
       "  </tbody>\n",
       "</table>\n",
       "</div>"
      ],
      "text/plain": [
       "   id_emprestimo codigo_barras                 data_renovacao  \\\n",
       "0         709684       L095049                            NaN   \n",
       "1         709685       L167050                            NaN   \n",
       "2         709686    2006017618  2010/01/26 08:07:01.738000000   \n",
       "3         709687       L184117  2010/01/18 11:07:46.470000000   \n",
       "4         709684       L095049                            NaN   \n",
       "\n",
       "                 data_emprestimo                 data_devolucao  \\\n",
       "0  2010/01/04 07:44:10.721000000  2010/01/05 16:26:12.662000000   \n",
       "1  2010/01/04 07:44:10.750000000  2010/01/12 07:34:13.934000000   \n",
       "2  2010/01/04 08:08:44.081000000  2010/02/25 07:36:25.800000000   \n",
       "3  2010/01/04 08:24:21.284000000  2010/02/03 08:58:45.692000000   \n",
       "4  2010/01/04 07:44:10.721000000  2010/01/05 16:26:12.662000000   \n",
       "\n",
       "   matricula_ou_siape    tipo_vinculo_usuario  \n",
       "0        2.008023e+09      ALUNO DE GRADUAÇÃO  \n",
       "1        2.008023e+09      ALUNO DE GRADUAÇÃO  \n",
       "2        2.008112e+09  ALUNO DE PÓS-GRADUAÇÃO  \n",
       "3        2.007211e+08      ALUNO DE GRADUAÇÃO  \n",
       "4        2.008023e+09      ALUNO DE GRADUAÇÃO  "
      ]
     },
     "execution_count": 12,
     "metadata": {},
     "output_type": "execute_result"
    }
   ],
   "source": [
    "df.head(5)"
   ]
  },
  {
   "cell_type": "markdown",
   "id": "0bd738a1",
   "metadata": {},
   "source": [
    "Agora, uma parte importante é saber quantas linhas e colunas o DataFrame possuí, para isso utilizamos o .shape "
   ]
  },
  {
   "cell_type": "code",
   "execution_count": 23,
   "id": "bd9ee4de",
   "metadata": {},
   "outputs": [
    {
     "data": {
      "text/plain": [
       "(2258018, 7)"
      ]
     },
     "execution_count": 23,
     "metadata": {},
     "output_type": "execute_result"
    }
   ],
   "source": [
    "df.shape"
   ]
  },
  {
   "cell_type": "markdown",
   "id": "01029109",
   "metadata": {},
   "source": [
    "Agora, queremos vizualizar o nome de cada coluna, dessa maneira fica mais facíl de compreender o DataFrame"
   ]
  },
  {
   "cell_type": "code",
   "execution_count": 18,
   "id": "b5a053b2",
   "metadata": {},
   "outputs": [
    {
     "name": "stdout",
     "output_type": "stream",
     "text": [
      "<class 'pandas.core.frame.DataFrame'>\n",
      "Int64Index: 2258018 entries, 0 to 26560\n",
      "Data columns (total 7 columns):\n",
      " #   Column                Dtype  \n",
      "---  ------                -----  \n",
      " 0   id_emprestimo         int64  \n",
      " 1   codigo_barras         object \n",
      " 2   data_renovacao        object \n",
      " 3   data_emprestimo       object \n",
      " 4   data_devolucao        object \n",
      " 5   matricula_ou_siape    float64\n",
      " 6   tipo_vinculo_usuario  object \n",
      "dtypes: float64(1), int64(1), object(5)\n",
      "memory usage: 137.8+ MB\n"
     ]
    }
   ],
   "source": [
    "df.info()"
   ]
  },
  {
   "cell_type": "markdown",
   "id": "9df45d22",
   "metadata": {},
   "source": [
    "Para começar a limpeza, primeiro vamos ver se existe Ids repetidos e se faz a sentido existir"
   ]
  },
  {
   "cell_type": "code",
   "execution_count": 31,
   "id": "08a5df13",
   "metadata": {},
   "outputs": [
    {
     "data": {
      "text/plain": [
       "(2257981,)"
      ]
     },
     "execution_count": 31,
     "metadata": {},
     "output_type": "execute_result"
    }
   ],
   "source": [
    "import numpy as np\n",
    "unique_id = np.unique(df['id_emprestimo']).shape\n",
    "unique_id"
   ]
  },
  {
   "cell_type": "markdown",
   "id": "38919382",
   "metadata": {},
   "source": [
    "Vemos que a quantidade de IDs unicos é de 2257981 e a quantidade de IDs totais no DataFrame é de 2258018, ou seja, existem 37 IDs repetidos."
   ]
  },
  {
   "cell_type": "markdown",
   "id": "1630f762",
   "metadata": {},
   "source": [
    "Outra maneira de verificar as duplicatas é utilizando value_counts do pandas"
   ]
  },
  {
   "cell_type": "code",
   "execution_count": 33,
   "id": "694470a8",
   "metadata": {},
   "outputs": [
    {
     "data": {
      "text/plain": [
       "id_emprestimo  codigo_barras  data_renovacao                 data_emprestimo                data_devolucao                 matricula_ou_siape  tipo_vinculo_usuario  \n",
       "709704         2006021442     2010/01/17 18:56:43.923000000  2010/01/04 09:58:46.522000000  2010/02/01 13:59:02.528000000  2.008010e+09        ALUNO DE GRADUAÇÃO        7\n",
       "709705         2009032168     2010/01/17 18:56:43.909000000  2010/01/04 09:58:46.549000000  2010/01/20 13:14:34.464000000  2.008010e+09        ALUNO DE GRADUAÇÃO        7\n",
       "709698         2009047725     2010/01/18 14:44:41.163000000  2010/01/04 09:21:19.099000000  2010/02/02 12:02:38.444000000  2.009047e+09        ALUNO DE GRADUAÇÃO        3\n",
       "709686         2006017618     2010/01/26 08:07:01.738000000  2010/01/04 08:08:44.081000000  2010/02/25 07:36:25.800000000  2.008112e+09        ALUNO DE PÓS-GRADUAÇÃO    2\n",
       "2461099        2012008348     2016/06/27 20:35:46.855000000  2016/06/14 11:20:33.254000000  2016/07/11 14:37:29.000000000  2.015022e+09        ALUNO DE GRADUAÇÃO        2\n",
       "                                                                                                                                                                        ..\n",
       "1443389        2011018954     2013/03/22 13:18:55.037000000  2013/03/07 11:21:26.480000000  2013/04/08 20:26:07.000000000  2.010046e+09        ALUNO DE GRADUAÇÃO        1\n",
       "1443390        2009056314     2013/03/21 09:28:45.689000000  2013/03/07 11:21:28.899000000  2013/04/05 18:18:00.000000000  2.011015e+09        ALUNO DE GRADUAÇÃO        1\n",
       "1443393        2012037906     2013/03/20 20:17:10.574000000  2013/03/07 11:24:19.326000000  2013/03/25 08:58:44.000000000  2.011038e+09        ALUNO DE GRADUAÇÃO        1\n",
       "1443395        2011033069     2013/04/07 01:06:51.679000000  2013/03/07 11:25:22.661000000  2013/05/07 16:19:34.000000000  2.011106e+09        ALUNO DE PÓS-GRADUAÇÃO    1\n",
       "10322328       2014070441     2018/01/15 12:26:00.697000000  2017/12/29 18:21:09.060000000  2018/01/31 18:50:25.000000000  2.014063e+09        ALUNO DE GRADUAÇÃO        1\n",
       "Length: 968028, dtype: int64"
      ]
     },
     "execution_count": 33,
     "metadata": {},
     "output_type": "execute_result"
    }
   ],
   "source": [
    "df.value_counts()"
   ]
  },
  {
   "cell_type": "markdown",
   "id": "3c52200f",
   "metadata": {},
   "source": [
    "Agora que comprovamos novamente que existem duplicatas, podemos utilizar o drop_duplicates do pandas para retira-las do dataframe"
   ]
  },
  {
   "cell_type": "code",
   "execution_count": 34,
   "id": "64937510",
   "metadata": {},
   "outputs": [
    {
     "data": {
      "text/html": [
       "<div>\n",
       "<style scoped>\n",
       "    .dataframe tbody tr th:only-of-type {\n",
       "        vertical-align: middle;\n",
       "    }\n",
       "\n",
       "    .dataframe tbody tr th {\n",
       "        vertical-align: top;\n",
       "    }\n",
       "\n",
       "    .dataframe thead th {\n",
       "        text-align: right;\n",
       "    }\n",
       "</style>\n",
       "<table border=\"1\" class=\"dataframe\">\n",
       "  <thead>\n",
       "    <tr style=\"text-align: right;\">\n",
       "      <th></th>\n",
       "      <th>id_emprestimo</th>\n",
       "      <th>codigo_barras</th>\n",
       "      <th>data_renovacao</th>\n",
       "      <th>data_emprestimo</th>\n",
       "      <th>data_devolucao</th>\n",
       "      <th>matricula_ou_siape</th>\n",
       "      <th>tipo_vinculo_usuario</th>\n",
       "    </tr>\n",
       "  </thead>\n",
       "  <tbody>\n",
       "    <tr>\n",
       "      <th>0</th>\n",
       "      <td>709684</td>\n",
       "      <td>L095049</td>\n",
       "      <td>NaN</td>\n",
       "      <td>2010/01/04 07:44:10.721000000</td>\n",
       "      <td>2010/01/05 16:26:12.662000000</td>\n",
       "      <td>2.008023e+09</td>\n",
       "      <td>ALUNO DE GRADUAÇÃO</td>\n",
       "    </tr>\n",
       "    <tr>\n",
       "      <th>1</th>\n",
       "      <td>709685</td>\n",
       "      <td>L167050</td>\n",
       "      <td>NaN</td>\n",
       "      <td>2010/01/04 07:44:10.750000000</td>\n",
       "      <td>2010/01/12 07:34:13.934000000</td>\n",
       "      <td>2.008023e+09</td>\n",
       "      <td>ALUNO DE GRADUAÇÃO</td>\n",
       "    </tr>\n",
       "    <tr>\n",
       "      <th>2</th>\n",
       "      <td>709686</td>\n",
       "      <td>2006017618</td>\n",
       "      <td>2010/01/26 08:07:01.738000000</td>\n",
       "      <td>2010/01/04 08:08:44.081000000</td>\n",
       "      <td>2010/02/25 07:36:25.800000000</td>\n",
       "      <td>2.008112e+09</td>\n",
       "      <td>ALUNO DE PÓS-GRADUAÇÃO</td>\n",
       "    </tr>\n",
       "    <tr>\n",
       "      <th>3</th>\n",
       "      <td>709687</td>\n",
       "      <td>L184117</td>\n",
       "      <td>2010/01/18 11:07:46.470000000</td>\n",
       "      <td>2010/01/04 08:24:21.284000000</td>\n",
       "      <td>2010/02/03 08:58:45.692000000</td>\n",
       "      <td>2.007211e+08</td>\n",
       "      <td>ALUNO DE GRADUAÇÃO</td>\n",
       "    </tr>\n",
       "    <tr>\n",
       "      <th>8</th>\n",
       "      <td>709688</td>\n",
       "      <td>2007027500</td>\n",
       "      <td>2010/01/19 15:59:26.464000000</td>\n",
       "      <td>2010/01/04 08:27:33.569000000</td>\n",
       "      <td>2010/02/03 13:06:30.662000000</td>\n",
       "      <td>2.009046e+09</td>\n",
       "      <td>ALUNO DE GRADUAÇÃO</td>\n",
       "    </tr>\n",
       "    <tr>\n",
       "      <th>...</th>\n",
       "      <td>...</td>\n",
       "      <td>...</td>\n",
       "      <td>...</td>\n",
       "      <td>...</td>\n",
       "      <td>...</td>\n",
       "      <td>...</td>\n",
       "      <td>...</td>\n",
       "    </tr>\n",
       "    <tr>\n",
       "      <th>26556</th>\n",
       "      <td>2989086</td>\n",
       "      <td>2008047044</td>\n",
       "      <td>NaN</td>\n",
       "      <td>2020/05/05 19:51:06.059000000</td>\n",
       "      <td>2021/05/13 14:53:31.000000000</td>\n",
       "      <td>3.067431e+06</td>\n",
       "      <td>SERVIDOR TÉCNICO-ADMINISTRATIVO</td>\n",
       "    </tr>\n",
       "    <tr>\n",
       "      <th>26557</th>\n",
       "      <td>2989087</td>\n",
       "      <td>2008047047</td>\n",
       "      <td>NaN</td>\n",
       "      <td>2020/05/05 19:51:06.135000000</td>\n",
       "      <td>2021/05/13 14:53:38.000000000</td>\n",
       "      <td>3.067431e+06</td>\n",
       "      <td>SERVIDOR TÉCNICO-ADMINISTRATIVO</td>\n",
       "    </tr>\n",
       "    <tr>\n",
       "      <th>26558</th>\n",
       "      <td>2989088</td>\n",
       "      <td>2010052905</td>\n",
       "      <td>NaN</td>\n",
       "      <td>2020/05/05 19:51:06.164000000</td>\n",
       "      <td>2021/05/13 15:01:46.000000000</td>\n",
       "      <td>3.067431e+06</td>\n",
       "      <td>SERVIDOR TÉCNICO-ADMINISTRATIVO</td>\n",
       "    </tr>\n",
       "    <tr>\n",
       "      <th>26559</th>\n",
       "      <td>2989089</td>\n",
       "      <td>2010048023</td>\n",
       "      <td>NaN</td>\n",
       "      <td>2020/06/09 11:54:02.669000000</td>\n",
       "      <td>2021/07/21 15:33:55.000000000</td>\n",
       "      <td>2.020101e+10</td>\n",
       "      <td>ALUNO DE PÓS-GRADUAÇÃO</td>\n",
       "    </tr>\n",
       "    <tr>\n",
       "      <th>26560</th>\n",
       "      <td>2989090</td>\n",
       "      <td>2013106838</td>\n",
       "      <td>NaN</td>\n",
       "      <td>2020/06/09 11:54:02.852000000</td>\n",
       "      <td>2021/07/21 15:33:45.000000000</td>\n",
       "      <td>2.020101e+10</td>\n",
       "      <td>ALUNO DE PÓS-GRADUAÇÃO</td>\n",
       "    </tr>\n",
       "  </tbody>\n",
       "</table>\n",
       "<p>2257981 rows × 7 columns</p>\n",
       "</div>"
      ],
      "text/plain": [
       "       id_emprestimo codigo_barras                 data_renovacao  \\\n",
       "0             709684       L095049                            NaN   \n",
       "1             709685       L167050                            NaN   \n",
       "2             709686    2006017618  2010/01/26 08:07:01.738000000   \n",
       "3             709687       L184117  2010/01/18 11:07:46.470000000   \n",
       "8             709688    2007027500  2010/01/19 15:59:26.464000000   \n",
       "...              ...           ...                            ...   \n",
       "26556        2989086    2008047044                            NaN   \n",
       "26557        2989087    2008047047                            NaN   \n",
       "26558        2989088    2010052905                            NaN   \n",
       "26559        2989089    2010048023                            NaN   \n",
       "26560        2989090    2013106838                            NaN   \n",
       "\n",
       "                     data_emprestimo                 data_devolucao  \\\n",
       "0      2010/01/04 07:44:10.721000000  2010/01/05 16:26:12.662000000   \n",
       "1      2010/01/04 07:44:10.750000000  2010/01/12 07:34:13.934000000   \n",
       "2      2010/01/04 08:08:44.081000000  2010/02/25 07:36:25.800000000   \n",
       "3      2010/01/04 08:24:21.284000000  2010/02/03 08:58:45.692000000   \n",
       "8      2010/01/04 08:27:33.569000000  2010/02/03 13:06:30.662000000   \n",
       "...                              ...                            ...   \n",
       "26556  2020/05/05 19:51:06.059000000  2021/05/13 14:53:31.000000000   \n",
       "26557  2020/05/05 19:51:06.135000000  2021/05/13 14:53:38.000000000   \n",
       "26558  2020/05/05 19:51:06.164000000  2021/05/13 15:01:46.000000000   \n",
       "26559  2020/06/09 11:54:02.669000000  2021/07/21 15:33:55.000000000   \n",
       "26560  2020/06/09 11:54:02.852000000  2021/07/21 15:33:45.000000000   \n",
       "\n",
       "       matricula_ou_siape             tipo_vinculo_usuario  \n",
       "0            2.008023e+09               ALUNO DE GRADUAÇÃO  \n",
       "1            2.008023e+09               ALUNO DE GRADUAÇÃO  \n",
       "2            2.008112e+09           ALUNO DE PÓS-GRADUAÇÃO  \n",
       "3            2.007211e+08               ALUNO DE GRADUAÇÃO  \n",
       "8            2.009046e+09               ALUNO DE GRADUAÇÃO  \n",
       "...                   ...                              ...  \n",
       "26556        3.067431e+06  SERVIDOR TÉCNICO-ADMINISTRATIVO  \n",
       "26557        3.067431e+06  SERVIDOR TÉCNICO-ADMINISTRATIVO  \n",
       "26558        3.067431e+06  SERVIDOR TÉCNICO-ADMINISTRATIVO  \n",
       "26559        2.020101e+10           ALUNO DE PÓS-GRADUAÇÃO  \n",
       "26560        2.020101e+10           ALUNO DE PÓS-GRADUAÇÃO  \n",
       "\n",
       "[2257981 rows x 7 columns]"
      ]
     },
     "execution_count": 34,
     "metadata": {},
     "output_type": "execute_result"
    }
   ],
   "source": [
    "df.drop_duplicates()"
   ]
  },
  {
   "cell_type": "markdown",
   "id": "49d912d2",
   "metadata": {},
   "source": [
    "Agora, o número de Ids é 2257981, o mesmo encontrado quando utilizamos o np.unique, comprovando que existiam 37 duplicatas"
   ]
  },
  {
   "cell_type": "markdown",
   "id": "d43f5270",
   "metadata": {},
   "source": [
    "Agora, temos que importar o DataFrame com a informação dos exemplates, para que possa ser possível identificar qual exemplar foi emprestado em cada data, para qual usuário, etc."
   ]
  },
  {
   "cell_type": "code",
   "execution_count": 39,
   "id": "aca6649f",
   "metadata": {},
   "outputs": [
    {
     "data": {
      "text/html": [
       "<div>\n",
       "<style scoped>\n",
       "    .dataframe tbody tr th:only-of-type {\n",
       "        vertical-align: middle;\n",
       "    }\n",
       "\n",
       "    .dataframe tbody tr th {\n",
       "        vertical-align: top;\n",
       "    }\n",
       "\n",
       "    .dataframe thead th {\n",
       "        text-align: right;\n",
       "    }\n",
       "</style>\n",
       "<table border=\"1\" class=\"dataframe\">\n",
       "  <thead>\n",
       "    <tr style=\"text-align: right;\">\n",
       "      <th></th>\n",
       "      <th>id_exemplar</th>\n",
       "      <th>codigo_barras</th>\n",
       "      <th>colecao</th>\n",
       "      <th>biblioteca</th>\n",
       "      <th>status_material</th>\n",
       "      <th>localizacao</th>\n",
       "      <th>registro_sistema</th>\n",
       "    </tr>\n",
       "    <tr>\n",
       "      <th>index</th>\n",
       "      <th></th>\n",
       "      <th></th>\n",
       "      <th></th>\n",
       "      <th></th>\n",
       "      <th></th>\n",
       "      <th></th>\n",
       "      <th></th>\n",
       "    </tr>\n",
       "  </thead>\n",
       "  <tbody>\n",
       "    <tr>\n",
       "      <th>0</th>\n",
       "      <td>5</td>\n",
       "      <td>L000003</td>\n",
       "      <td>Acervo Circulante</td>\n",
       "      <td>Biblioteca Central Zila Mamede</td>\n",
       "      <td>REGULAR</td>\n",
       "      <td>694</td>\n",
       "      <td>1</td>\n",
       "    </tr>\n",
       "    <tr>\n",
       "      <th>1</th>\n",
       "      <td>4</td>\n",
       "      <td>L000002</td>\n",
       "      <td>Acervo Circulante</td>\n",
       "      <td>Biblioteca Central Zila Mamede</td>\n",
       "      <td>REGULAR</td>\n",
       "      <td>688</td>\n",
       "      <td>1</td>\n",
       "    </tr>\n",
       "    <tr>\n",
       "      <th>2</th>\n",
       "      <td>3</td>\n",
       "      <td>L000001</td>\n",
       "      <td>Acervo Circulante</td>\n",
       "      <td>Biblioteca Central Zila Mamede</td>\n",
       "      <td>ESPECIAL</td>\n",
       "      <td>638</td>\n",
       "      <td>1</td>\n",
       "    </tr>\n",
       "    <tr>\n",
       "      <th>3</th>\n",
       "      <td>7</td>\n",
       "      <td>L000114</td>\n",
       "      <td>Acervo Circulante</td>\n",
       "      <td>Biblioteca Central Zila Mamede</td>\n",
       "      <td>REGULAR</td>\n",
       "      <td>616</td>\n",
       "      <td>5</td>\n",
       "    </tr>\n",
       "    <tr>\n",
       "      <th>5</th>\n",
       "      <td>10</td>\n",
       "      <td>L000041</td>\n",
       "      <td>Acervo Circulante</td>\n",
       "      <td>Biblioteca Central Zila Mamede</td>\n",
       "      <td>ESPECIAL</td>\n",
       "      <td>657</td>\n",
       "      <td>15</td>\n",
       "    </tr>\n",
       "    <tr>\n",
       "      <th>...</th>\n",
       "      <td>...</td>\n",
       "      <td>...</td>\n",
       "      <td>...</td>\n",
       "      <td>...</td>\n",
       "      <td>...</td>\n",
       "      <td>...</td>\n",
       "      <td>...</td>\n",
       "    </tr>\n",
       "    <tr>\n",
       "      <th>568580</th>\n",
       "      <td>1353472</td>\n",
       "      <td>2021011150</td>\n",
       "      <td>Acervo Circulante</td>\n",
       "      <td>Biblioteca Setorial do Núcleo de Educação da I...</td>\n",
       "      <td>REGULAR</td>\n",
       "      <td>951</td>\n",
       "      <td>268231</td>\n",
       "    </tr>\n",
       "    <tr>\n",
       "      <th>568581</th>\n",
       "      <td>1353473</td>\n",
       "      <td>2019013454</td>\n",
       "      <td>Acervo Circulante</td>\n",
       "      <td>Biblioteca Central Zila Mamede</td>\n",
       "      <td>ESPECIAL</td>\n",
       "      <td>997</td>\n",
       "      <td>268233</td>\n",
       "    </tr>\n",
       "    <tr>\n",
       "      <th>568582</th>\n",
       "      <td>1353474</td>\n",
       "      <td>2019012811</td>\n",
       "      <td>Acervo Circulante</td>\n",
       "      <td>Biblioteca Central Zila Mamede</td>\n",
       "      <td>ESPECIAL</td>\n",
       "      <td>987</td>\n",
       "      <td>268234</td>\n",
       "    </tr>\n",
       "    <tr>\n",
       "      <th>568583</th>\n",
       "      <td>1353475</td>\n",
       "      <td>2019013451</td>\n",
       "      <td>Acervo Circulante</td>\n",
       "      <td>Biblioteca Central Zila Mamede</td>\n",
       "      <td>ESPECIAL</td>\n",
       "      <td>764</td>\n",
       "      <td>268235</td>\n",
       "    </tr>\n",
       "    <tr>\n",
       "      <th>568584</th>\n",
       "      <td>1353476</td>\n",
       "      <td>2019012276</td>\n",
       "      <td>Acervo Circulante</td>\n",
       "      <td>Biblioteca Central Zila Mamede</td>\n",
       "      <td>ESPECIAL</td>\n",
       "      <td>962</td>\n",
       "      <td>268236</td>\n",
       "    </tr>\n",
       "  </tbody>\n",
       "</table>\n",
       "<p>546237 rows × 7 columns</p>\n",
       "</div>"
      ],
      "text/plain": [
       "        id_exemplar codigo_barras            colecao  \\\n",
       "index                                                  \n",
       "0                 5       L000003  Acervo Circulante   \n",
       "1                 4       L000002  Acervo Circulante   \n",
       "2                 3       L000001  Acervo Circulante   \n",
       "3                 7       L000114  Acervo Circulante   \n",
       "5                10       L000041  Acervo Circulante   \n",
       "...             ...           ...                ...   \n",
       "568580      1353472    2021011150  Acervo Circulante   \n",
       "568581      1353473    2019013454  Acervo Circulante   \n",
       "568582      1353474    2019012811  Acervo Circulante   \n",
       "568583      1353475    2019013451  Acervo Circulante   \n",
       "568584      1353476    2019012276  Acervo Circulante   \n",
       "\n",
       "                                               biblioteca status_material  \\\n",
       "index                                                                       \n",
       "0                          Biblioteca Central Zila Mamede         REGULAR   \n",
       "1                          Biblioteca Central Zila Mamede         REGULAR   \n",
       "2                          Biblioteca Central Zila Mamede        ESPECIAL   \n",
       "3                          Biblioteca Central Zila Mamede         REGULAR   \n",
       "5                          Biblioteca Central Zila Mamede        ESPECIAL   \n",
       "...                                                   ...             ...   \n",
       "568580  Biblioteca Setorial do Núcleo de Educação da I...         REGULAR   \n",
       "568581                     Biblioteca Central Zila Mamede        ESPECIAL   \n",
       "568582                     Biblioteca Central Zila Mamede        ESPECIAL   \n",
       "568583                     Biblioteca Central Zila Mamede        ESPECIAL   \n",
       "568584                     Biblioteca Central Zila Mamede        ESPECIAL   \n",
       "\n",
       "        localizacao  registro_sistema  \n",
       "index                                  \n",
       "0               694                 1  \n",
       "1               688                 1  \n",
       "2               638                 1  \n",
       "3               616                 5  \n",
       "5               657                15  \n",
       "...             ...               ...  \n",
       "568580          951            268231  \n",
       "568581          997            268233  \n",
       "568582          987            268234  \n",
       "568583          764            268235  \n",
       "568584          962            268236  \n",
       "\n",
       "[546237 rows x 7 columns]"
      ]
     },
     "execution_count": 39,
     "metadata": {},
     "output_type": "execute_result"
    }
   ],
   "source": [
    "df_exemplares = pd.read_parquet('https://github.com/FranciscoFoz/7_Days_of_Code_Alura-Python-Pandas/raw/main/Dia_1-Importando_dados/Datasets/dados_exemplares.parquet')\n",
    "df_exemplares"
   ]
  },
  {
   "cell_type": "markdown",
   "id": "d89c9854",
   "metadata": {},
   "source": [
    "Existem 546237 exemplares, vamos checar se há duplicatas"
   ]
  },
  {
   "cell_type": "code",
   "execution_count": 46,
   "id": "3204862a",
   "metadata": {},
   "outputs": [
    {
     "data": {
      "text/plain": [
       "id_exemplar  codigo_barras  colecao            biblioteca                                             status_material  localizacao  registro_sistema\n",
       "3            L000001        Acervo Circulante  Biblioteca Central Zila Mamede                         ESPECIAL         638          1                   1\n",
       "1070480      2013071582     Acervo Circulante  Biblioteca Setorial do Centro Ciências da Saúde - CCS  REGULAR          340          200283              1\n",
       "1070506      2013077711     Acervo Circulante  Biblioteca Central Zila Mamede                         REGULAR          354          200288              1\n",
       "1070505      2013077710     Acervo Circulante  Biblioteca Central Zila Mamede                         REGULAR          327          200288              1\n",
       "1070504      2013077807     Acervo Circulante  Biblioteca Central Zila Mamede                         REGULAR          348          200286              1\n",
       "                                                                                                                                                       ..\n",
       "232120       2007034699     Acervo Circulante  Biblioteca Central Zila Mamede                         REGULAR          652          96457               1\n",
       "232119       2007034703     Acervo Circulante  Biblioteca Central Zila Mamede                         REGULAR          628          96456               1\n",
       "232118       2007036783     Acervo Circulante  Biblioteca Central Zila Mamede                         REGULAR          618          96301               1\n",
       "232117       2007040275     Acervo Circulante  Biblioteca Central Zila Mamede                         REGULAR          680          96301               1\n",
       "1353476      2019012276     Acervo Circulante  Biblioteca Central Zila Mamede                         ESPECIAL         962          268236              1\n",
       "Length: 546237, dtype: int64"
      ]
     },
     "execution_count": 46,
     "metadata": {},
     "output_type": "execute_result"
    }
   ],
   "source": [
    "df_exemplares.value_counts()"
   ]
  },
  {
   "cell_type": "markdown",
   "id": "8f9528e9",
   "metadata": {},
   "source": [
    "Agora vamos mesclar os dois DataFrames, para que fique mais facíl o manuzeio "
   ]
  },
  {
   "cell_type": "code",
   "execution_count": 48,
   "id": "c17fe608",
   "metadata": {},
   "outputs": [
    {
     "data": {
      "text/html": [
       "<div>\n",
       "<style scoped>\n",
       "    .dataframe tbody tr th:only-of-type {\n",
       "        vertical-align: middle;\n",
       "    }\n",
       "\n",
       "    .dataframe tbody tr th {\n",
       "        vertical-align: top;\n",
       "    }\n",
       "\n",
       "    .dataframe thead th {\n",
       "        text-align: right;\n",
       "    }\n",
       "</style>\n",
       "<table border=\"1\" class=\"dataframe\">\n",
       "  <thead>\n",
       "    <tr style=\"text-align: right;\">\n",
       "      <th></th>\n",
       "      <th>id_emprestimo</th>\n",
       "      <th>codigo_barras</th>\n",
       "      <th>data_renovacao</th>\n",
       "      <th>data_emprestimo</th>\n",
       "      <th>data_devolucao</th>\n",
       "      <th>matricula_ou_siape</th>\n",
       "      <th>tipo_vinculo_usuario</th>\n",
       "      <th>id_exemplar</th>\n",
       "      <th>colecao</th>\n",
       "      <th>biblioteca</th>\n",
       "      <th>status_material</th>\n",
       "      <th>localizacao</th>\n",
       "      <th>registro_sistema</th>\n",
       "    </tr>\n",
       "  </thead>\n",
       "  <tbody>\n",
       "    <tr>\n",
       "      <th>0</th>\n",
       "      <td>709684</td>\n",
       "      <td>L095049</td>\n",
       "      <td>NaN</td>\n",
       "      <td>2010/01/04 07:44:10.721000000</td>\n",
       "      <td>2010/01/05 16:26:12.662000000</td>\n",
       "      <td>2.008023e+09</td>\n",
       "      <td>ALUNO DE GRADUAÇÃO</td>\n",
       "      <td>13259</td>\n",
       "      <td>Acervo Circulante</td>\n",
       "      <td>Biblioteca Central Zila Mamede</td>\n",
       "      <td>REGULAR</td>\n",
       "      <td>630</td>\n",
       "      <td>4225</td>\n",
       "    </tr>\n",
       "    <tr>\n",
       "      <th>1</th>\n",
       "      <td>709684</td>\n",
       "      <td>L095049</td>\n",
       "      <td>NaN</td>\n",
       "      <td>2010/01/04 07:44:10.721000000</td>\n",
       "      <td>2010/01/05 16:26:12.662000000</td>\n",
       "      <td>2.008023e+09</td>\n",
       "      <td>ALUNO DE GRADUAÇÃO</td>\n",
       "      <td>13259</td>\n",
       "      <td>Acervo Circulante</td>\n",
       "      <td>Biblioteca Central Zila Mamede</td>\n",
       "      <td>REGULAR</td>\n",
       "      <td>630</td>\n",
       "      <td>4225</td>\n",
       "    </tr>\n",
       "    <tr>\n",
       "      <th>2</th>\n",
       "      <td>726965</td>\n",
       "      <td>L095049</td>\n",
       "      <td>2010/03/31 12:41:08.684000000</td>\n",
       "      <td>2010/03/01 12:40:56.212000000</td>\n",
       "      <td>2010/04/30 14:42:35.366000000</td>\n",
       "      <td>2.009122e+09</td>\n",
       "      <td>ALUNO DE PÓS-GRADUAÇÃO</td>\n",
       "      <td>13259</td>\n",
       "      <td>Acervo Circulante</td>\n",
       "      <td>Biblioteca Central Zila Mamede</td>\n",
       "      <td>REGULAR</td>\n",
       "      <td>630</td>\n",
       "      <td>4225</td>\n",
       "    </tr>\n",
       "    <tr>\n",
       "      <th>3</th>\n",
       "      <td>709685</td>\n",
       "      <td>L167050</td>\n",
       "      <td>NaN</td>\n",
       "      <td>2010/01/04 07:44:10.750000000</td>\n",
       "      <td>2010/01/12 07:34:13.934000000</td>\n",
       "      <td>2.008023e+09</td>\n",
       "      <td>ALUNO DE GRADUAÇÃO</td>\n",
       "      <td>70865</td>\n",
       "      <td>Acervo Circulante</td>\n",
       "      <td>Biblioteca Central Zila Mamede</td>\n",
       "      <td>REGULAR</td>\n",
       "      <td>647</td>\n",
       "      <td>25009</td>\n",
       "    </tr>\n",
       "    <tr>\n",
       "      <th>4</th>\n",
       "      <td>709685</td>\n",
       "      <td>L167050</td>\n",
       "      <td>NaN</td>\n",
       "      <td>2010/01/04 07:44:10.750000000</td>\n",
       "      <td>2010/01/12 07:34:13.934000000</td>\n",
       "      <td>2.008023e+09</td>\n",
       "      <td>ALUNO DE GRADUAÇÃO</td>\n",
       "      <td>70865</td>\n",
       "      <td>Acervo Circulante</td>\n",
       "      <td>Biblioteca Central Zila Mamede</td>\n",
       "      <td>REGULAR</td>\n",
       "      <td>647</td>\n",
       "      <td>25009</td>\n",
       "    </tr>\n",
       "  </tbody>\n",
       "</table>\n",
       "</div>"
      ],
      "text/plain": [
       "   id_emprestimo codigo_barras                 data_renovacao  \\\n",
       "0         709684       L095049                            NaN   \n",
       "1         709684       L095049                            NaN   \n",
       "2         726965       L095049  2010/03/31 12:41:08.684000000   \n",
       "3         709685       L167050                            NaN   \n",
       "4         709685       L167050                            NaN   \n",
       "\n",
       "                 data_emprestimo                 data_devolucao  \\\n",
       "0  2010/01/04 07:44:10.721000000  2010/01/05 16:26:12.662000000   \n",
       "1  2010/01/04 07:44:10.721000000  2010/01/05 16:26:12.662000000   \n",
       "2  2010/03/01 12:40:56.212000000  2010/04/30 14:42:35.366000000   \n",
       "3  2010/01/04 07:44:10.750000000  2010/01/12 07:34:13.934000000   \n",
       "4  2010/01/04 07:44:10.750000000  2010/01/12 07:34:13.934000000   \n",
       "\n",
       "   matricula_ou_siape    tipo_vinculo_usuario  id_exemplar            colecao  \\\n",
       "0        2.008023e+09      ALUNO DE GRADUAÇÃO        13259  Acervo Circulante   \n",
       "1        2.008023e+09      ALUNO DE GRADUAÇÃO        13259  Acervo Circulante   \n",
       "2        2.009122e+09  ALUNO DE PÓS-GRADUAÇÃO        13259  Acervo Circulante   \n",
       "3        2.008023e+09      ALUNO DE GRADUAÇÃO        70865  Acervo Circulante   \n",
       "4        2.008023e+09      ALUNO DE GRADUAÇÃO        70865  Acervo Circulante   \n",
       "\n",
       "                       biblioteca status_material  localizacao  \\\n",
       "0  Biblioteca Central Zila Mamede         REGULAR          630   \n",
       "1  Biblioteca Central Zila Mamede         REGULAR          630   \n",
       "2  Biblioteca Central Zila Mamede         REGULAR          630   \n",
       "3  Biblioteca Central Zila Mamede         REGULAR          647   \n",
       "4  Biblioteca Central Zila Mamede         REGULAR          647   \n",
       "\n",
       "   registro_sistema  \n",
       "0              4225  \n",
       "1              4225  \n",
       "2              4225  \n",
       "3             25009  \n",
       "4             25009  "
      ]
     },
     "execution_count": 48,
     "metadata": {},
     "output_type": "execute_result"
    }
   ],
   "source": [
    "df = pd.merge(df, df_exemplares)\n",
    "df.head(5)"
   ]
  },
  {
   "cell_type": "code",
   "execution_count": 52,
   "id": "5ebde131",
   "metadata": {},
   "outputs": [
    {
     "data": {
      "text/html": [
       "<div>\n",
       "<style scoped>\n",
       "    .dataframe tbody tr th:only-of-type {\n",
       "        vertical-align: middle;\n",
       "    }\n",
       "\n",
       "    .dataframe tbody tr th {\n",
       "        vertical-align: top;\n",
       "    }\n",
       "\n",
       "    .dataframe thead th {\n",
       "        text-align: right;\n",
       "    }\n",
       "</style>\n",
       "<table border=\"1\" class=\"dataframe\">\n",
       "  <thead>\n",
       "    <tr style=\"text-align: right;\">\n",
       "      <th></th>\n",
       "      <th>id_emprestimo</th>\n",
       "      <th>codigo_barras</th>\n",
       "      <th>data_renovacao</th>\n",
       "      <th>data_emprestimo</th>\n",
       "      <th>data_devolucao</th>\n",
       "      <th>matricula_ou_siape</th>\n",
       "      <th>tipo_vinculo_usuario</th>\n",
       "      <th>id_exemplar</th>\n",
       "      <th>colecao</th>\n",
       "      <th>biblioteca</th>\n",
       "      <th>status_material</th>\n",
       "      <th>localizacao</th>\n",
       "      <th>registro_sistema</th>\n",
       "    </tr>\n",
       "  </thead>\n",
       "  <tbody>\n",
       "    <tr>\n",
       "      <th>0</th>\n",
       "      <td>False</td>\n",
       "      <td>False</td>\n",
       "      <td>True</td>\n",
       "      <td>False</td>\n",
       "      <td>False</td>\n",
       "      <td>False</td>\n",
       "      <td>False</td>\n",
       "      <td>False</td>\n",
       "      <td>False</td>\n",
       "      <td>False</td>\n",
       "      <td>False</td>\n",
       "      <td>False</td>\n",
       "      <td>False</td>\n",
       "    </tr>\n",
       "    <tr>\n",
       "      <th>1</th>\n",
       "      <td>False</td>\n",
       "      <td>False</td>\n",
       "      <td>True</td>\n",
       "      <td>False</td>\n",
       "      <td>False</td>\n",
       "      <td>False</td>\n",
       "      <td>False</td>\n",
       "      <td>False</td>\n",
       "      <td>False</td>\n",
       "      <td>False</td>\n",
       "      <td>False</td>\n",
       "      <td>False</td>\n",
       "      <td>False</td>\n",
       "    </tr>\n",
       "    <tr>\n",
       "      <th>2</th>\n",
       "      <td>False</td>\n",
       "      <td>False</td>\n",
       "      <td>False</td>\n",
       "      <td>False</td>\n",
       "      <td>False</td>\n",
       "      <td>False</td>\n",
       "      <td>False</td>\n",
       "      <td>False</td>\n",
       "      <td>False</td>\n",
       "      <td>False</td>\n",
       "      <td>False</td>\n",
       "      <td>False</td>\n",
       "      <td>False</td>\n",
       "    </tr>\n",
       "    <tr>\n",
       "      <th>3</th>\n",
       "      <td>False</td>\n",
       "      <td>False</td>\n",
       "      <td>True</td>\n",
       "      <td>False</td>\n",
       "      <td>False</td>\n",
       "      <td>False</td>\n",
       "      <td>False</td>\n",
       "      <td>False</td>\n",
       "      <td>False</td>\n",
       "      <td>False</td>\n",
       "      <td>False</td>\n",
       "      <td>False</td>\n",
       "      <td>False</td>\n",
       "    </tr>\n",
       "    <tr>\n",
       "      <th>4</th>\n",
       "      <td>False</td>\n",
       "      <td>False</td>\n",
       "      <td>True</td>\n",
       "      <td>False</td>\n",
       "      <td>False</td>\n",
       "      <td>False</td>\n",
       "      <td>False</td>\n",
       "      <td>False</td>\n",
       "      <td>False</td>\n",
       "      <td>False</td>\n",
       "      <td>False</td>\n",
       "      <td>False</td>\n",
       "      <td>False</td>\n",
       "    </tr>\n",
       "    <tr>\n",
       "      <th>...</th>\n",
       "      <td>...</td>\n",
       "      <td>...</td>\n",
       "      <td>...</td>\n",
       "      <td>...</td>\n",
       "      <td>...</td>\n",
       "      <td>...</td>\n",
       "      <td>...</td>\n",
       "      <td>...</td>\n",
       "      <td>...</td>\n",
       "      <td>...</td>\n",
       "      <td>...</td>\n",
       "      <td>...</td>\n",
       "      <td>...</td>\n",
       "    </tr>\n",
       "    <tr>\n",
       "      <th>2072553</th>\n",
       "      <td>False</td>\n",
       "      <td>False</td>\n",
       "      <td>True</td>\n",
       "      <td>False</td>\n",
       "      <td>False</td>\n",
       "      <td>False</td>\n",
       "      <td>False</td>\n",
       "      <td>False</td>\n",
       "      <td>False</td>\n",
       "      <td>False</td>\n",
       "      <td>False</td>\n",
       "      <td>False</td>\n",
       "      <td>False</td>\n",
       "    </tr>\n",
       "    <tr>\n",
       "      <th>2072554</th>\n",
       "      <td>False</td>\n",
       "      <td>False</td>\n",
       "      <td>True</td>\n",
       "      <td>False</td>\n",
       "      <td>False</td>\n",
       "      <td>False</td>\n",
       "      <td>False</td>\n",
       "      <td>False</td>\n",
       "      <td>False</td>\n",
       "      <td>False</td>\n",
       "      <td>False</td>\n",
       "      <td>False</td>\n",
       "      <td>False</td>\n",
       "    </tr>\n",
       "    <tr>\n",
       "      <th>2072555</th>\n",
       "      <td>False</td>\n",
       "      <td>False</td>\n",
       "      <td>True</td>\n",
       "      <td>False</td>\n",
       "      <td>False</td>\n",
       "      <td>False</td>\n",
       "      <td>False</td>\n",
       "      <td>False</td>\n",
       "      <td>False</td>\n",
       "      <td>False</td>\n",
       "      <td>False</td>\n",
       "      <td>False</td>\n",
       "      <td>False</td>\n",
       "    </tr>\n",
       "    <tr>\n",
       "      <th>2072556</th>\n",
       "      <td>False</td>\n",
       "      <td>False</td>\n",
       "      <td>True</td>\n",
       "      <td>False</td>\n",
       "      <td>True</td>\n",
       "      <td>False</td>\n",
       "      <td>False</td>\n",
       "      <td>False</td>\n",
       "      <td>False</td>\n",
       "      <td>False</td>\n",
       "      <td>False</td>\n",
       "      <td>False</td>\n",
       "      <td>False</td>\n",
       "    </tr>\n",
       "    <tr>\n",
       "      <th>2072557</th>\n",
       "      <td>False</td>\n",
       "      <td>False</td>\n",
       "      <td>True</td>\n",
       "      <td>False</td>\n",
       "      <td>False</td>\n",
       "      <td>False</td>\n",
       "      <td>False</td>\n",
       "      <td>False</td>\n",
       "      <td>False</td>\n",
       "      <td>False</td>\n",
       "      <td>False</td>\n",
       "      <td>False</td>\n",
       "      <td>False</td>\n",
       "    </tr>\n",
       "  </tbody>\n",
       "</table>\n",
       "<p>2072558 rows × 13 columns</p>\n",
       "</div>"
      ],
      "text/plain": [
       "         id_emprestimo  codigo_barras  data_renovacao  data_emprestimo  \\\n",
       "0                False          False            True            False   \n",
       "1                False          False            True            False   \n",
       "2                False          False           False            False   \n",
       "3                False          False            True            False   \n",
       "4                False          False            True            False   \n",
       "...                ...            ...             ...              ...   \n",
       "2072553          False          False            True            False   \n",
       "2072554          False          False            True            False   \n",
       "2072555          False          False            True            False   \n",
       "2072556          False          False            True            False   \n",
       "2072557          False          False            True            False   \n",
       "\n",
       "         data_devolucao  matricula_ou_siape  tipo_vinculo_usuario  \\\n",
       "0                 False               False                 False   \n",
       "1                 False               False                 False   \n",
       "2                 False               False                 False   \n",
       "3                 False               False                 False   \n",
       "4                 False               False                 False   \n",
       "...                 ...                 ...                   ...   \n",
       "2072553           False               False                 False   \n",
       "2072554           False               False                 False   \n",
       "2072555           False               False                 False   \n",
       "2072556            True               False                 False   \n",
       "2072557           False               False                 False   \n",
       "\n",
       "         id_exemplar  colecao  biblioteca  status_material  localizacao  \\\n",
       "0              False    False       False            False        False   \n",
       "1              False    False       False            False        False   \n",
       "2              False    False       False            False        False   \n",
       "3              False    False       False            False        False   \n",
       "4              False    False       False            False        False   \n",
       "...              ...      ...         ...              ...          ...   \n",
       "2072553        False    False       False            False        False   \n",
       "2072554        False    False       False            False        False   \n",
       "2072555        False    False       False            False        False   \n",
       "2072556        False    False       False            False        False   \n",
       "2072557        False    False       False            False        False   \n",
       "\n",
       "         registro_sistema  \n",
       "0                   False  \n",
       "1                   False  \n",
       "2                   False  \n",
       "3                   False  \n",
       "4                   False  \n",
       "...                   ...  \n",
       "2072553             False  \n",
       "2072554             False  \n",
       "2072555             False  \n",
       "2072556             False  \n",
       "2072557             False  \n",
       "\n",
       "[2072558 rows x 13 columns]"
      ]
     },
     "execution_count": 52,
     "metadata": {},
     "output_type": "execute_result"
    }
   ],
   "source": [
    "df.isna()"
   ]
  },
  {
   "cell_type": "markdown",
   "id": "14f30d3a",
   "metadata": {},
   "source": [
    "Verificamos que existe valores NaN. Vamos entender se faz sentido removelos, ou altera-los para o nosso contexto. \n",
    "Pergutas que queremos responder: A quantidade de empréstimos está aumentando ou diminuindo ao decorrer dos últimos anos?\n",
    "                                 Em quais bibliotecas do sistema estão a maior quantidade de empréstimos?\n",
    "                                 Quais são os temas mais emprestados? E os menos?"
   ]
  },
  {
   "cell_type": "code",
   "execution_count": 53,
   "id": "b30d9a65",
   "metadata": {},
   "outputs": [
    {
     "data": {
      "text/plain": [
       "id_emprestimo                 0\n",
       "codigo_barras                 0\n",
       "data_renovacao          1162088\n",
       "data_emprestimo               0\n",
       "data_devolucao             6178\n",
       "matricula_ou_siape         2893\n",
       "tipo_vinculo_usuario          0\n",
       "id_exemplar                   0\n",
       "colecao                       0\n",
       "biblioteca                    0\n",
       "status_material               0\n",
       "localizacao                   0\n",
       "registro_sistema              0\n",
       "dtype: int64"
      ]
     },
     "execution_count": 53,
     "metadata": {},
     "output_type": "execute_result"
    }
   ],
   "source": [
    "df.isna().sum()"
   ]
  },
  {
   "cell_type": "markdown",
   "id": "79cf59f2",
   "metadata": {},
   "source": [
    "isna().sum() está mostrando quantos valores NaN existem em cada coluna, vemos que em data de renovação existem 1162088, provavelmente o valor NaN nesse caso significa que a renovação não foi feito, o livro apenas foi devolvido, mas vale checar com a biblioteca ou com o responsável pelo DataFrame. Por hora, irei considerar que os livros só foram devolvido, então seria interessante substituir o NaN por 'devolvido' ou 'não renovado'."
   ]
  },
  {
   "cell_type": "markdown",
   "id": "8ee77aea",
   "metadata": {},
   "source": [
    "Agora na coluna data de devolução temos 6178 NaN, essa é um pouca mais complicada, pois esses 6178 NaN podem significar que o livro nunca foi devolvido, ou pode ter ocorrido alguma falha. Para fins de estudo, irei considerar que o valores NaN para coluna de data de devolução significam que não foram devolvidos, ou por terem renovado ou pelos dados de devolução estarem em outros DataFrames fora desses 10 anos."
   ]
  },
  {
   "cell_type": "markdown",
   "id": "12fe7a0b",
   "metadata": {},
   "source": [
    "A última coluna que contem dados NaN é a matricula ou siape, nesse caso pode significar que a pessoa que pegou o livro emprestado não possuí uma matricula ou siape, temos que verificar o que significa ter uma matricula ou um siape antes de categorizar esses NaN como 'terceiros'."
   ]
  },
  {
   "cell_type": "code",
   "execution_count": 57,
   "id": "9b095a1e",
   "metadata": {
    "scrolled": true
   },
   "outputs": [
    {
     "data": {
      "text/plain": [
       "<bound method NDFrame.head of 0          2.008023e+09\n",
       "1          2.008023e+09\n",
       "2          2.009122e+09\n",
       "3          2.008023e+09\n",
       "4          2.008023e+09\n",
       "               ...     \n",
       "2072553    2.015011e+10\n",
       "2072554    2.019004e+10\n",
       "2072555    2.019102e+10\n",
       "2072556    2.015013e+10\n",
       "2072557    2.020001e+10\n",
       "Name: matricula_ou_siape, Length: 2072558, dtype: float64>"
      ]
     },
     "execution_count": 57,
     "metadata": {},
     "output_type": "execute_result"
    }
   ],
   "source": [
    "df['matricula_ou_siape'].head"
   ]
  },
  {
   "cell_type": "markdown",
   "id": "00820380",
   "metadata": {},
   "source": [
    "Parece que o valor contido na coluna matricula_ou_siape é do tipo float"
   ]
  },
  {
   "cell_type": "code",
   "execution_count": 58,
   "id": "31255e6f",
   "metadata": {},
   "outputs": [
    {
     "data": {
      "text/plain": [
       "0    2008023265\n",
       "1    2008023265\n",
       "2    2009121584\n",
       "3    2008023265\n",
       "4    2008023265\n",
       "Name: matricula_ou_siape, dtype: object"
      ]
     },
     "execution_count": 58,
     "metadata": {},
     "output_type": "execute_result"
    }
   ],
   "source": [
    "df['matricula_ou_siape'] = df['matricula_ou_siape'].astype(str).replace('\\.0$', '', regex=True)\n",
    "df['matricula_ou_siape'].head()"
   ]
  },
  {
   "cell_type": "code",
   "execution_count": 66,
   "id": "7e7a5bac",
   "metadata": {},
   "outputs": [
    {
     "data": {
      "text/plain": [
       "id_emprestimo                 0\n",
       "codigo_barras                 0\n",
       "data_renovacao          1162088\n",
       "data_emprestimo               0\n",
       "data_devolucao             6178\n",
       "matricula_ou_siape            0\n",
       "tipo_vinculo_usuario          0\n",
       "id_exemplar                   0\n",
       "colecao                       0\n",
       "biblioteca                    0\n",
       "status_material               0\n",
       "localizacao                   0\n",
       "registro_sistema              0\n",
       "dtype: int64"
      ]
     },
     "execution_count": 66,
     "metadata": {},
     "output_type": "execute_result"
    }
   ],
   "source": [
    "df.isna().sum()"
   ]
  },
  {
   "cell_type": "markdown",
   "id": "6843b825",
   "metadata": {},
   "source": [
    "astype(str).replace('\\.0$', '', regex=True) está transformando os valores em uma string e remove o .0, ou seja, agora é uma string de valor inteiro, como uma matricula ou siape deveria ser. Ao fazer esse tratamento os valores NaN sumiram nessa série, como observado acima, então isso significa que os valores existiam, mas o pandas não conseguia interpreta-los corretamente, então força o valor a ser um placeholder (NaN)."
   ]
  },
  {
   "cell_type": "markdown",
   "id": "92dd3219",
   "metadata": {},
   "source": [
    "Para coluna data de renovação irei substituir os valores NaN para 'sem renovação' utilizando fillna()"
   ]
  },
  {
   "cell_type": "code",
   "execution_count": 69,
   "id": "13325e6c",
   "metadata": {},
   "outputs": [
    {
     "data": {
      "text/plain": [
       "0                    sem renovação\n",
       "1                    sem renovação\n",
       "2    2010/03/31 12:41:08.684000000\n",
       "3                    sem renovação\n",
       "4                    sem renovação\n",
       "5                    sem renovação\n",
       "6    2010/03/17 09:08:26.874000000\n",
       "7    2010/04/20 08:40:47.151000000\n",
       "8                    sem renovação\n",
       "9                    sem renovação\n",
       "Name: data_renovacao, dtype: object"
      ]
     },
     "execution_count": 69,
     "metadata": {},
     "output_type": "execute_result"
    }
   ],
   "source": [
    "df['data_renovacao'] = df['data_renovacao'].fillna('sem renovação')\n",
    "df['data_renovacao'].head(10)"
   ]
  },
  {
   "cell_type": "markdown",
   "id": "96a34c5e",
   "metadata": {},
   "source": [
    "Agora para a coluna de data de devolução irei substituir o NaN por 'não devolvido'"
   ]
  },
  {
   "cell_type": "code",
   "execution_count": 76,
   "id": "96f463d3",
   "metadata": {},
   "outputs": [
    {
     "data": {
      "text/plain": [
       "0    2010/01/05 16:26:12.662000000\n",
       "1    2010/01/05 16:26:12.662000000\n",
       "2    2010/04/30 14:42:35.366000000\n",
       "3    2010/01/12 07:34:13.934000000\n",
       "4    2010/01/12 07:34:13.934000000\n",
       "Name: data_devolucao, dtype: object"
      ]
     },
     "execution_count": 76,
     "metadata": {},
     "output_type": "execute_result"
    }
   ],
   "source": [
    "df['data_devolucao'] = df['data_devolucao'].fillna('não devolvido')\n",
    "df['data_devolucao'].head()"
   ]
  },
  {
   "cell_type": "markdown",
   "id": "b9137f5e",
   "metadata": {},
   "source": [
    "Agora que tratamos os dados, vamos tentar responder as perguntas. A quantidade de empréstimos está aumentando ou diminuindo ao decorrer dos últimos anos?"
   ]
  },
  {
   "cell_type": "code",
   "execution_count": 93,
   "id": "6ba48e27",
   "metadata": {},
   "outputs": [
    {
     "name": "stdout",
     "output_type": "stream",
     "text": [
      "['2010/01/04', '2010/01/04', '2010/01/04', '2010/01/04', '2010/01/04', '2010/01/04', '2010/01/04', '2010/01/04', '2010/01/04', '2010/01/04']\n"
     ]
    }
   ],
   "source": [
    "list_data = []\n",
    "for data in df['data_emprestimo']:\n",
    "    list_data.append(data[:10])\n",
    "list_data.sort()"
   ]
  },
  {
   "cell_type": "markdown",
   "id": "811cc434",
   "metadata": {},
   "source": [
    "Separa as datas dessa forma funciona, porem é menos eficiente, podemos usar list comprehension ou fazer a alteração diretamente, no dataframe, retirando as horas, pois é uma dado que não nos interessa por agora."
   ]
  },
  {
   "cell_type": "code",
   "execution_count": 94,
   "id": "0eb85006",
   "metadata": {},
   "outputs": [
    {
     "data": {
      "text/plain": [
       "['2010/01/04',\n",
       " '2010/01/04',\n",
       " '2010/01/04',\n",
       " '2010/01/04',\n",
       " '2010/01/04',\n",
       " '2010/01/04',\n",
       " '2010/01/04',\n",
       " '2010/01/04',\n",
       " '2010/01/04',\n",
       " '2010/01/04']"
      ]
     },
     "execution_count": 94,
     "metadata": {},
     "output_type": "execute_result"
    }
   ],
   "source": [
    "list_data = df['data_emprestimo'].str[:10].sort_values().tolist()\n",
    "list_data[:10]"
   ]
  },
  {
   "cell_type": "markdown",
   "id": "1047e5a2",
   "metadata": {},
   "source": [
    "Estamos vendo que é mais eficiente retirar o valor direto do dataframe do que passar ele por um loop. O str pega os 10 primeiros caracteres e transforma em str. O sort_values organiza essas strinsg por ordem crescente e o tolist garante que será organizado em lista."
   ]
  },
  {
   "cell_type": "code",
   "execution_count": 96,
   "id": "420c9057",
   "metadata": {},
   "outputs": [
    {
     "data": {
      "text/plain": [
       "'2010/01/04'"
      ]
     },
     "execution_count": 96,
     "metadata": {},
     "output_type": "execute_result"
    }
   ],
   "source": [
    "list_data[0]"
   ]
  },
  {
   "cell_type": "code",
   "execution_count": 98,
   "id": "b56efedb",
   "metadata": {},
   "outputs": [
    {
     "data": {
      "text/plain": [
       "'2020/06/09'"
      ]
     },
     "execution_count": 98,
     "metadata": {},
     "output_type": "execute_result"
    }
   ],
   "source": [
    "list_data[-1]"
   ]
  },
  {
   "cell_type": "markdown",
   "id": "9960b009",
   "metadata": {},
   "source": [
    "Vemos que a primeira data é '2010/01/04' e a última é '2020/06/09', um range de 10 anos"
   ]
  },
  {
   "cell_type": "code",
   "execution_count": 100,
   "id": "17a83681",
   "metadata": {},
   "outputs": [],
   "source": [
    "import matplotlib.pyplot as plt\n",
    "import matplotlib as mpl\n",
    "mpl.rcParams['figure.dpi'] = 400"
   ]
  },
  {
   "cell_type": "code",
   "execution_count": 116,
   "id": "02aa0f6f",
   "metadata": {},
   "outputs": [
    {
     "data": {
      "text/plain": [
       "{'2010': 161412,\n",
       " '2011': 196390,\n",
       " '2012': 221365,\n",
       " '2013': 234749,\n",
       " '2014': 219189,\n",
       " '2015': 213582,\n",
       " '2016': 215918,\n",
       " '2017': 218462,\n",
       " '2018': 194080,\n",
       " '2019': 171801,\n",
       " '2020': 25610}"
      ]
     },
     "execution_count": 116,
     "metadata": {},
     "output_type": "execute_result"
    }
   ],
   "source": [
    "dic_datas = {'2010':0,\n",
    "             '2011':0,\n",
    "             '2012':0,\n",
    "             '2013':0,\n",
    "             '2014':0,\n",
    "             '2015':0,\n",
    "             '2016':0,\n",
    "             '2017':0,\n",
    "             '2018':0,\n",
    "             '2019':0,\n",
    "             '2020':0}\n",
    "for data in list_data:\n",
    "    if data[:4] in dic_datas:\n",
    "        dic_datas[data[:4]] += 1\n",
    "dic_datas"
   ]
  },
  {
   "cell_type": "code",
   "execution_count": 136,
   "id": "5680d26c",
   "metadata": {},
   "outputs": [
    {
     "data": {
      "text/plain": [
       "2010    161412\n",
       "2011    196390\n",
       "2012    221365\n",
       "2013    234749\n",
       "2014    219189\n",
       "2015    213582\n",
       "2016    215918\n",
       "2017    218462\n",
       "2018    194080\n",
       "2019    171801\n",
       "2020     25610\n",
       "Name: data_emprestimo, dtype: int64"
      ]
     },
     "execution_count": 136,
     "metadata": {},
     "output_type": "execute_result"
    }
   ],
   "source": [
    "emprestimos_por_ano = df['data_emprestimo'].str[:4].value_counts().sort_index()\n",
    "emprestimos_por_ano"
   ]
  },
  {
   "cell_type": "code",
   "execution_count": 139,
   "id": "0e6fd0a7",
   "metadata": {},
   "outputs": [
    {
     "data": {
      "text/plain": [
       "(array([1., 0., 0., 0., 0., 0., 2., 0., 3., 5.]),\n",
       " array([ 25610. ,  46523.9,  67437.8,  88351.7, 109265.6, 130179.5,\n",
       "        151093.4, 172007.3, 192921.2, 213835.1, 234749. ]),\n",
       " <BarContainer object of 10 artists>)"
      ]
     },
     "execution_count": 139,
     "metadata": {},
     "output_type": "execute_result"
    },
    {
     "data": {
      "image/png": "[encoded data removed]",
      "text/plain": [
       "<Figure size 2560x1920 with 1 Axes>"
      ]
     },
     "metadata": {},
     "output_type": "display_data"
    }
   ],
   "source": [
    "log_bins = np.array(range(2010, 2021))\n",
    "plt.hist(emprestimos_por_ano)"
   ]
  },
  {
   "cell_type": "code",
   "execution_count": 141,
   "id": "5f2d9ba5",
   "metadata": {},
   "outputs": [
    {
     "ename": "SyntaxError",
     "evalue": "invalid syntax (2830201818.py, line 1)",
     "output_type": "error",
     "traceback": [
      "\u001b[1;36m  Cell \u001b[1;32mIn[141], line 1\u001b[1;36m\u001b[0m\n\u001b[1;33m    git init\u001b[0m\n\u001b[1;37m        ^\u001b[0m\n\u001b[1;31mSyntaxError\u001b[0m\u001b[1;31m:\u001b[0m invalid syntax\n"
     ]
    }
   ],
   "source": []
  }
 ],
 "metadata": {
  "kernelspec": {
   "display_name": "Python 3 (ipykernel)",
   "language": "python",
   "name": "python3"
  },
  "language_info": {
   "codemirror_mode": {
    "name": "ipython",
    "version": 3
   },
   "file_extension": ".py",
   "mimetype": "text/x-python",
   "name": "python",
   "nbconvert_exporter": "python",
   "pygments_lexer": "ipython3",
   "version": "3.10.9"
  }
 },
 "nbformat": 4,
 "nbformat_minor": 5
}
